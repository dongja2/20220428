{
 "cells": [
  {
   "cell_type": "code",
   "execution_count": 232,
   "id": "a1d250b9",
   "metadata": {},
   "outputs": [
    {
     "name": "stdout",
     "output_type": "stream",
     "text": [
      "#기본\n",
      "52\n",
      "#특정 칸에 출력하기\n",
      "   52\n",
      "        52\n",
      "#빈칸을 0으로 채우기\n",
      "00052\n",
      "-0052\n"
     ]
    }
   ],
   "source": [
    "a=\"{:d}\".format(52)\n",
    "b=\"{:5d}\".format(52)\n",
    "c=\"{:10d}\".format(52)\n",
    "d =\"{:05d}\".format(52)\n",
    "e =\"{:05d}\".format(-52)\n",
    "print(\"#기본\")\n",
    "print(a)\n",
    "print(\"#특정 칸에 출력하기\")\n",
    "print(b)\n",
    "print(c)\n",
    "print(\"#빈칸을 0으로 채우기\")\n",
    "print(d)\n",
    "print(e)"
   ]
  },
  {
   "cell_type": "code",
   "execution_count": 329,
   "id": "79d1e520",
   "metadata": {
    "scrolled": true
   },
   "outputs": [
    {
     "name": "stdout",
     "output_type": "stream",
     "text": [
      "[[2, 5, 8], [3, 6, 9], [1, 4, 7]]\n"
     ]
    }
   ],
   "source": [
    "a = [1,2,3,4,5,6,7,8,9]\n",
    "b=[[],[],[]]\n",
    "\n",
    "for x in a:\n",
    "    b[(x+2)%3].append(x)\n",
    "    \n",
    "print(b)"
   ]
  },
  {
   "cell_type": "code",
   "execution_count": 391,
   "id": "9872b6c3",
   "metadata": {
    "scrolled": true
   },
   "outputs": [
    {
     "name": "stdout",
     "output_type": "stream",
     "text": [
      "[[1, 2, 3], [4, 5, 6], [7, 8, 9]]\n"
     ]
    }
   ],
   "source": [
    "a = [[1,2,3],[4,5],[6,7,8,9]]\n",
    "b = [[],[],[]]\n",
    "for x in a:\n",
    "    for z in x:\n",
    "        b[(z-1)//3].append(z)\n",
    "\n",
    "print(b)"
   ]
  },
  {
   "cell_type": "code",
   "execution_count": 390,
   "id": "d93f4bb9",
   "metadata": {},
   "outputs": [
    {
     "name": "stdout",
     "output_type": "stream",
     "text": [
      "1.5\n",
      "1\n"
     ]
    },
    {
     "data": {
      "text/plain": [
       "int"
      ]
     },
     "execution_count": 390,
     "metadata": {},
     "output_type": "execute_result"
    }
   ],
   "source": [
    "a = 3/2\n",
    "print(a)\n",
    "print(int(a))\n",
    "3//2\n",
    "type(3//2)"
   ]
  }
 ],
 "metadata": {
  "kernelspec": {
   "display_name": "Python 3 (ipykernel)",
   "language": "python",
   "name": "python3"
  },
  "language_info": {
   "codemirror_mode": {
    "name": "ipython",
    "version": 3
   },
   "file_extension": ".py",
   "mimetype": "text/x-python",
   "name": "python",
   "nbconvert_exporter": "python",
   "pygments_lexer": "ipython3",
   "version": "3.9.7"
  }
 },
 "nbformat": 4,
 "nbformat_minor": 5
}
